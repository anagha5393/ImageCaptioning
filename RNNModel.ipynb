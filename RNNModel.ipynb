{
  "nbformat": 4,
  "nbformat_minor": 0,
  "metadata": {
    "colab": {
      "name": "RNNModel.ipynb",
      "provenance": [],
      "collapsed_sections": []
    },
    "kernelspec": {
      "name": "python3",
      "display_name": "Python 3"
    },
    "accelerator": "TPU"
  },
  "cells": [
    {
      "cell_type": "code",
      "metadata": {
        "id": "N7XnIbwit-le",
        "colab_type": "code",
        "outputId": "ec219cd7-9b51-458b-cbeb-b12a1dbe67c6",
        "colab": {
          "base_uri": "https://localhost:8080/",
          "height": 124
        }
      },
      "source": [
        "from google.colab import drive\n",
        "drive.mount('/content/drive')"
      ],
      "execution_count": 0,
      "outputs": [
        {
          "output_type": "stream",
          "text": [
            "Go to this URL in a browser: https://accounts.google.com/o/oauth2/auth?client_id=947318989803-6bn6qk8qdgf4n4g3pfee6491hc0brc4i.apps.googleusercontent.com&redirect_uri=urn%3Aietf%3Awg%3Aoauth%3A2.0%3Aoob&scope=email%20https%3A%2F%2Fwww.googleapis.com%2Fauth%2Fdocs.test%20https%3A%2F%2Fwww.googleapis.com%2Fauth%2Fdrive%20https%3A%2F%2Fwww.googleapis.com%2Fauth%2Fdrive.photos.readonly%20https%3A%2F%2Fwww.googleapis.com%2Fauth%2Fpeopleapi.readonly&response_type=code\n",
            "\n",
            "Enter your authorization code:\n",
            "··········\n",
            "Mounted at /content/drive\n"
          ],
          "name": "stdout"
        }
      ]
    },
    {
      "cell_type": "code",
      "metadata": {
        "id": "ulePrHdr-rg5",
        "colab_type": "code",
        "outputId": "ceef6dba-8430-4bab-aa76-227e58a90a2b",
        "colab": {
          "base_uri": "https://localhost:8080/",
          "height": 69
        }
      },
      "source": [
        "from numpy import array\n",
        "import pickle\n",
        "import nltk\n",
        "nltk.download('punkt')\n",
        "from keras.preprocessing.text import Tokenizer\n",
        "from keras.preprocessing.sequence import pad_sequences\n",
        "from keras.utils import to_categorical\n",
        "from keras.models import Model\n",
        "from keras.layers import LSTM, CuDNNLSTM, Embedding, Dropout, Input, Dense\n",
        "from keras.layers.merge import add"
      ],
      "execution_count": 0,
      "outputs": [
        {
          "output_type": "stream",
          "text": [
            "[nltk_data] Downloading package punkt to /root/nltk_data...\n",
            "[nltk_data]   Unzipping tokenizers/punkt.zip.\n"
          ],
          "name": "stdout"
        },
        {
          "output_type": "stream",
          "text": [
            "Using TensorFlow backend.\n"
          ],
          "name": "stderr"
        }
      ]
    },
    {
      "cell_type": "code",
      "metadata": {
        "id": "_HHD93e8rufv",
        "colab_type": "code",
        "colab": {}
      },
      "source": [
        "# import tensorflow as tf\n",
        "# import keras\n",
        "# config = tf.ConfigProto( device_count = {'GPU': 1 , 'CPU': 1} ) \n",
        "# sess = tf.Session(config=config) \n",
        "# keras.backend.set_session(sess)\n",
        "\n",
        "import tensorflow as tf\n",
        "import os\n",
        "\n",
        "tf.config.optimizer.set_jit(True)\n",
        "os.environ['TF_CPP_MIN_LOG_LEVEL'] = '3'\n"
      ],
      "execution_count": 0,
      "outputs": []
    },
    {
      "cell_type": "markdown",
      "metadata": {
        "id": "V-7BLkqNcc0n",
        "colab_type": "text"
      },
      "source": [
        "## RNNModel class functions\n",
        "\n",
        "- init(): Initializes the class with the datapaths\n",
        "- loadInputData(): Load all the pickled data files created before.\n",
        "- readFiles(): Helper function to read pkl files.\n",
        "- getMaxLengthDesc(): Get the length of the longest description.\n",
        "- generateData(): Used to generate description data and image objects data to fit the model on. For each word in given description sentence, encoded tokens for first 1 to n-1 words are set as input whereas encoded token of nth word is set as output lable and remaining places are masked with 0.\n",
        "- buildModel(): In this function, keras model layers are mentioned. Input to the model will be detected image objects data and generated captions data. The text caption data is passed through LSTM model. Finally, layers of image processing unit and text processing LSTM unit are merged and two dense layers are added before finalizing the model design. \n",
        "- trainModel(): The model is trained for number of epochs mentioned as a parameter. For each epochs, this function calls generateData() function for filling the inputs placeholder. For now, we have mentioned number of epochs = 10. However, the model will be trained on more epochs for the next submission.\n"
      ]
    },
    {
      "cell_type": "code",
      "metadata": {
        "id": "TtMtk1DJBMgF",
        "colab_type": "code",
        "colab": {}
      },
      "source": [
        "class rnnModel:\n",
        "    def __init__(self):\n",
        "        self.dirPath = \"/content/drive/My Drive/NLP_Project/ProjectCode\"\n",
        "        self.dataPath = \"/content/drive/My Drive/NLP_Project/ProjectCode/dataset\"\n",
        "        self.imgPath = \"/content/drive/My Drive/NLP_Project/ProjectCode/dataset/Flicker8k_Dataset\"\n",
        "        self.modelsPath = \"/content/drive/My Drive/NLP_Project/ProjectCode/models\"\n",
        "        self.lstmModelsPath = \"/content/drive/My Drive/NLP_Project/ProjectCode/models/lstmModels\"\n",
        "        self.descFile = \"Flickr8k.token.txt\"\n",
        "        self.trainDataFile = \"Flickr_8k.trainImages.txt\"\n",
        "        self.testDataFile = \"Flickr_8k.testImages.txt\"\n",
        "\n",
        "    def loadInputData(self):\n",
        "        self.tokens = self.readFiles(\"trainTokens.pkl\")\n",
        "        self.imageData = self.readFiles(\"imageObjects.pkl\")\n",
        "        self.descriptionData = self.readFiles(\"trainDescription.pkl\")\n",
        "        self.vocabulary = self.readFiles(\"trainVocabulary.pkl\")\n",
        "\n",
        "    def loadImgData(self,fileName):\n",
        "        with open(fileName, 'rb') as f:\n",
        "            inputData = pickle.load(f)\n",
        "            return inputData\n",
        "\n",
        "    def readFiles(self,fileName):\n",
        "        with open(self.modelsPath+\"/\"+fileName, 'rb') as f:\n",
        "            inputData = pickle.load(f)\n",
        "            return inputData\n",
        "\n",
        "    def getMaxLengthDesc(self):\n",
        "        self.allDescriptionsLen = []\n",
        "        self.allDescriptions = []\n",
        "\n",
        "        for values in self.descriptionData.values():\n",
        "            # add all the lengths of the descriptions\n",
        "            self.allDescriptions.extend((nltk.word_tokenize(value)) for value in values)\n",
        "            self.allDescriptionsLen.extend(len(nltk.word_tokenize(value)) for value in values)\n",
        "            \n",
        "        return max(self.allDescriptionsLen)\n",
        "            \n",
        "    def generateData(self):\n",
        "        for key, values in self.descriptionData.items():\n",
        "            input1, input2, outputLabels = [], [], []\n",
        "            \n",
        "            for value in values:\n",
        "                encodedDescription = self.tokens.texts_to_sequences([value])[0]\n",
        "                \n",
        "                for n in range(1, len(encodedDescription)):\n",
        "                    input = pad_sequences([encodedDescription[:n]], maxlen=self.maxLen)[0]\n",
        "                    output = to_categorical([encodedDescription[n]], num_classes=self.vocabSize)[0]\n",
        "\n",
        "                    input1.append(self.imageData[key][0])\n",
        "                    input2.append(input)\n",
        "                    outputLabels.append(output)\n",
        "                    \n",
        "            yield [[array(input1), array(input2)], array(outputLabels)]\n",
        "            \n",
        "    def buildModel(self):\n",
        "        self.vocabSize = len(self.vocabulary) + 1\n",
        "        self.maxLen = self.getMaxLengthDesc()\n",
        "        \n",
        "        input1 = Input(shape=(4096,))\n",
        "        first = Dropout(0.5)(input1)\n",
        "        second = Dense(256, activation='relu')(input1)\n",
        "        \n",
        "        # sequence model\n",
        "        input2 = Input(shape=(self.maxLen,))\n",
        "        layer1 = Embedding(self.vocabSize, 256, mask_zero=True)(input2)\n",
        "        layer2 = Dropout(0.5)(layer1)\n",
        "        layer3 = LSTM(256)(layer2)\n",
        "        \n",
        "        # decoder model\n",
        "        final1 = add([second, layer3])\n",
        "        final2 = Dense(256, activation='relu')(final1)\n",
        "        output = Dense(self.vocabSize, activation='softmax')(final2)\n",
        "\n",
        "        # tie it together [image, seq] [word]\n",
        "        self.model = Model(inputs=[input1, input2], outputs=output)\n",
        "\n",
        "        # compile model\n",
        "        self.model.compile(loss='categorical_crossentropy', optimizer='adam')\n",
        "\n",
        "        # summarize model\n",
        "        self.model.summary()\n",
        "\n",
        "    def trainModel(self, epochs):\n",
        "        steps = len(self.descriptionData)\n",
        "        \n",
        "        for i in range(epochs):\n",
        "            # fit for one epoch\n",
        "            self.model.fit_generator(self.generateData(), epochs=1, steps_per_epoch=steps, verbose=1)\n",
        "            \n",
        "            self.model.save_weights(self.lstmModelsPath+\"/LSTM_WEIGHTS_\"+str(i)+\".hdf5\")\n",
        "            self.model.save(self.lstmModelsPath+\"/LSTM_MODEL_\"+str(i)+\".h5\")\n",
        "        print(\"done!\")"
      ],
      "execution_count": 0,
      "outputs": []
    },
    {
      "cell_type": "markdown",
      "metadata": {
        "id": "VteFQCYGyVOH",
        "colab_type": "text"
      },
      "source": [
        "Class object for rnnModel is created which is used for further operations on rnnModel."
      ]
    },
    {
      "cell_type": "code",
      "metadata": {
        "id": "OL2cVW9kNytd",
        "colab_type": "code",
        "outputId": "266775b4-55b1-4cb9-95cd-f88764df1f79",
        "colab": {
          "base_uri": "https://localhost:8080/",
          "height": 817
        }
      },
      "source": [
        "rnnModel = rnnModel()\n",
        "rnnModel.loadInputData()\n",
        "rnnModel.buildModel()\n"
      ],
      "execution_count": 0,
      "outputs": [
        {
          "output_type": "stream",
          "text": [
            "WARNING:tensorflow:From /usr/local/lib/python3.6/dist-packages/keras/backend/tensorflow_backend.py:66: The name tf.get_default_graph is deprecated. Please use tf.compat.v1.get_default_graph instead.\n",
            "\n",
            "WARNING:tensorflow:From /usr/local/lib/python3.6/dist-packages/keras/backend/tensorflow_backend.py:541: The name tf.placeholder is deprecated. Please use tf.compat.v1.placeholder instead.\n",
            "\n",
            "WARNING:tensorflow:From /usr/local/lib/python3.6/dist-packages/keras/backend/tensorflow_backend.py:148: The name tf.placeholder_with_default is deprecated. Please use tf.compat.v1.placeholder_with_default instead.\n",
            "\n",
            "WARNING:tensorflow:From /usr/local/lib/python3.6/dist-packages/keras/backend/tensorflow_backend.py:3733: calling dropout (from tensorflow.python.ops.nn_ops) with keep_prob is deprecated and will be removed in a future version.\n",
            "Instructions for updating:\n",
            "Please use `rate` instead of `keep_prob`. Rate should be set to `rate = 1 - keep_prob`.\n",
            "WARNING:tensorflow:From /usr/local/lib/python3.6/dist-packages/keras/backend/tensorflow_backend.py:4432: The name tf.random_uniform is deprecated. Please use tf.random.uniform instead.\n",
            "\n",
            "WARNING:tensorflow:From /usr/local/lib/python3.6/dist-packages/keras/backend/tensorflow_backend.py:3239: where (from tensorflow.python.ops.array_ops) is deprecated and will be removed in a future version.\n",
            "Instructions for updating:\n",
            "Use tf.where in 2.0, which has the same broadcast rule as np.where\n",
            "WARNING:tensorflow:From /usr/local/lib/python3.6/dist-packages/keras/optimizers.py:793: The name tf.train.Optimizer is deprecated. Please use tf.compat.v1.train.Optimizer instead.\n",
            "\n",
            "WARNING:tensorflow:From /usr/local/lib/python3.6/dist-packages/keras/backend/tensorflow_backend.py:3576: The name tf.log is deprecated. Please use tf.math.log instead.\n",
            "\n",
            "Model: \"model_1\"\n",
            "__________________________________________________________________________________________________\n",
            "Layer (type)                    Output Shape         Param #     Connected to                     \n",
            "==================================================================================================\n",
            "input_2 (InputLayer)            (None, 33)           0                                            \n",
            "__________________________________________________________________________________________________\n",
            "embedding_1 (Embedding)         (None, 33, 256)      1860352     input_2[0][0]                    \n",
            "__________________________________________________________________________________________________\n",
            "input_1 (InputLayer)            (None, 4096)         0                                            \n",
            "__________________________________________________________________________________________________\n",
            "dropout_2 (Dropout)             (None, 33, 256)      0           embedding_1[0][0]                \n",
            "__________________________________________________________________________________________________\n",
            "dense_1 (Dense)                 (None, 256)          1048832     input_1[0][0]                    \n",
            "__________________________________________________________________________________________________\n",
            "lstm_1 (LSTM)                   (None, 256)          525312      dropout_2[0][0]                  \n",
            "__________________________________________________________________________________________________\n",
            "add_1 (Add)                     (None, 256)          0           dense_1[0][0]                    \n",
            "                                                                 lstm_1[0][0]                     \n",
            "__________________________________________________________________________________________________\n",
            "dense_2 (Dense)                 (None, 256)          65792       add_1[0][0]                      \n",
            "__________________________________________________________________________________________________\n",
            "dense_3 (Dense)                 (None, 7267)         1867619     dense_2[0][0]                    \n",
            "==================================================================================================\n",
            "Total params: 5,367,907\n",
            "Trainable params: 5,367,907\n",
            "Non-trainable params: 0\n",
            "__________________________________________________________________________________________________\n"
          ],
          "name": "stdout"
        }
      ]
    },
    {
      "cell_type": "code",
      "metadata": {
        "id": "UizKHQzFN7w2",
        "colab_type": "code",
        "outputId": "2ea31dbc-481c-4d68-e923-93f43af9f887",
        "colab": {
          "base_uri": "https://localhost:8080/",
          "height": 679
        }
      },
      "source": [
        "# Training the rnnModel for 10 epochs\n",
        "rnnModel.trainModel(10)"
      ],
      "execution_count": 0,
      "outputs": [
        {
          "output_type": "stream",
          "text": [
            "WARNING:tensorflow:From /usr/local/lib/python3.6/dist-packages/keras/backend/tensorflow_backend.py:1033: The name tf.assign_add is deprecated. Please use tf.compat.v1.assign_add instead.\n",
            "\n",
            "WARNING:tensorflow:From /usr/local/lib/python3.6/dist-packages/keras/backend/tensorflow_backend.py:1020: The name tf.assign is deprecated. Please use tf.compat.v1.assign instead.\n",
            "\n",
            "WARNING:tensorflow:From /usr/local/lib/python3.6/dist-packages/keras/backend/tensorflow_backend.py:3005: The name tf.Session is deprecated. Please use tf.compat.v1.Session instead.\n",
            "\n",
            "Epoch 1/1\n",
            "WARNING:tensorflow:From /usr/local/lib/python3.6/dist-packages/keras/backend/tensorflow_backend.py:190: The name tf.get_default_session is deprecated. Please use tf.compat.v1.get_default_session instead.\n",
            "\n",
            "WARNING:tensorflow:From /usr/local/lib/python3.6/dist-packages/keras/backend/tensorflow_backend.py:197: The name tf.ConfigProto is deprecated. Please use tf.compat.v1.ConfigProto instead.\n",
            "\n",
            "WARNING:tensorflow:From /usr/local/lib/python3.6/dist-packages/keras/backend/tensorflow_backend.py:207: The name tf.global_variables is deprecated. Please use tf.compat.v1.global_variables instead.\n",
            "\n",
            "WARNING:tensorflow:From /usr/local/lib/python3.6/dist-packages/keras/backend/tensorflow_backend.py:216: The name tf.is_variable_initialized is deprecated. Please use tf.compat.v1.is_variable_initialized instead.\n",
            "\n",
            "WARNING:tensorflow:From /usr/local/lib/python3.6/dist-packages/keras/backend/tensorflow_backend.py:223: The name tf.variables_initializer is deprecated. Please use tf.compat.v1.variables_initializer instead.\n",
            "\n",
            "6000/6000 [==============================] - 2259s 377ms/step - loss: 4.6558\n",
            "Epoch 1/1\n",
            "6000/6000 [==============================] - 2262s 377ms/step - loss: 3.9222\n",
            "Epoch 1/1\n",
            "6000/6000 [==============================] - 2249s 375ms/step - loss: 3.6655\n",
            "Epoch 1/1\n",
            "6000/6000 [==============================] - 2242s 374ms/step - loss: 3.5051\n",
            "Epoch 1/1\n",
            "6000/6000 [==============================] - 2239s 373ms/step - loss: 3.4050\n",
            "Epoch 1/1\n",
            "6000/6000 [==============================] - 2255s 376ms/step - loss: 3.3317\n",
            "Epoch 1/1\n",
            "6000/6000 [==============================] - 2255s 376ms/step - loss: 3.2749\n",
            "Epoch 1/1\n",
            "6000/6000 [==============================] - 2263s 377ms/step - loss: 3.2288\n",
            "Epoch 1/1\n",
            "6000/6000 [==============================] - 2254s 376ms/step - loss: 3.1910\n",
            "Epoch 1/1\n",
            "6000/6000 [==============================] - 2239s 373ms/step - loss: 3.1633\n",
            "done!\n"
          ],
          "name": "stdout"
        }
      ]
    },
    {
      "cell_type": "code",
      "metadata": {
        "id": "j5grophqV_tn",
        "colab_type": "code",
        "outputId": "3857b73d-ac77-4892-e53c-c9a899f9a00b",
        "colab": {
          "base_uri": "https://localhost:8080/",
          "height": 661
        }
      },
      "source": [
        "from keras.utils import plot_model\n",
        "plot_model(rnnModel.model, to_file='model.png')"
      ],
      "execution_count": 0,
      "outputs": [
        {
          "output_type": "execute_result",
          "data": {
            "image/png": "[encoded data removed]",
            "text/plain": [
              "<IPython.core.display.Image object>"
            ]
          },
          "metadata": {
            "tags": []
          },
          "execution_count": 12
        }
      ]
    },
    {
      "cell_type": "code",
      "metadata": {
        "id": "PNEpwJoEmZxm",
        "colab_type": "code",
        "outputId": "914e8881-2418-4b16-9d2c-313c64cb1002",
        "colab": {
          "base_uri": "https://localhost:8080/",
          "height": 279
        }
      },
      "source": [
        "from matplotlib import pyplot as plt\n",
        "plt.plot([4.6558,3.9222,3.6655,3.5051,3.4050,3.3317,3.2749,3.2288,3.1910,3.1633])\n",
        "plt.xlabel(\"Epoch\")\n",
        "plt.ylabel(\"Loss\")\n",
        "plt.show()"
      ],
      "execution_count": 0,
      "outputs": [
        {
          "output_type": "display_data",
          "data": {
            "image/png": "[encoded data removed]",
            "text/plain": [
              "<Figure size 432x288 with 1 Axes>"
            ]
          },
          "metadata": {
            "tags": []
          }
        }
      ]
    }
  ]
}