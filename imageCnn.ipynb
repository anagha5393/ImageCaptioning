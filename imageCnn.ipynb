{
  "nbformat": 4,
  "nbformat_minor": 0,
  "metadata": {
    "colab": {
      "name": "imageCnn.ipynb",
      "provenance": [],
      "collapsed_sections": [],
      "toc_visible": true
    },
    "kernelspec": {
      "name": "python3",
      "display_name": "Python 3"
    },
    "accelerator": "GPU"
  },
  "cells": [
    {
      "cell_type": "markdown",
      "metadata": {
        "id": "5zevToUq0KV5",
        "colab_type": "text"
      },
      "source": [
        "## Training CNN Model\n",
        "\n",
        "We trained the CNN model using VGG pretrained model provided by Keras. This will provide the best accuracy while detecting objectsin our images due to which we wont miss out on the features in our images. "
      ]
    },
    {
      "cell_type": "code",
      "metadata": {
        "id": "-RZdDzP5SZzl",
        "colab_type": "code",
        "outputId": "9a78f5ee-ef66-4843-eea6-98afc4a519f7",
        "colab": {
          "base_uri": "https://localhost:8080/",
          "height": 34
        }
      },
      "source": [
        "import os\n",
        "from os import listdir\n",
        "import pickle\n",
        "from pickle import load\n",
        "from pickle import dump\n",
        "\n",
        "from keras.applications.vgg16 import VGG16\n",
        "from keras.models import Model\n",
        "\n",
        "from google.colab.patches import cv2_imshow\n",
        "import numpy as np\n",
        "import cv2\n",
        "\n",
        "import warnings\n",
        "warnings.filterwarnings('ignore')"
      ],
      "execution_count": 1,
      "outputs": [
        {
          "output_type": "stream",
          "text": [
            "Using TensorFlow backend.\n"
          ],
          "name": "stderr"
        }
      ]
    },
    {
      "cell_type": "markdown",
      "metadata": {
        "id": "a6LAeGGLCZk9",
        "colab_type": "text"
      },
      "source": [
        "### Class Functions\n",
        "\n",
        "- __init__(self): Sets the directory paths for the images and the captions, Inilialize the VGG model.\n",
        "- getTrainImageNames(self): Creates a list of all the image names.\n",
        "- prepareImage(): Saves the convoluted images.\n",
        "- extractFeatures(): Detects individual objects from images and saves object list for every image."
      ]
    },
    {
      "cell_type": "code",
      "metadata": {
        "id": "O2NdhUacSlcq",
        "colab_type": "code",
        "colab": {}
      },
      "source": [
        "class cnnModel:\n",
        "  def __init__(self):\n",
        "    self.dirPath = \"/content/drive/My Drive/NLP_Project/ProjectCode\"\n",
        "    self.dataPath = \"/content/drive/My Drive/NLP_Project/ProjectCode/dataset\"\n",
        "    self.imgPath = \"/content/drive/My Drive/NLP_Project/ProjectCode/dataset/Flicker8k_Dataset\"\n",
        "    self.modelsPath = \"/content/drive/My Drive/NLP_Project/ProjectCode/models\"\n",
        "    self.trainDataFile = \"Flickr_8k.trainImages.txt\"\n",
        "    self.testDataFile = \"Flickr_8k.testImages.txt\"\n",
        "    \n",
        "    self.model = VGG16()\n",
        "    \n",
        "  def getTrainImageNames(self):\n",
        "    file = open(self.dataPath+\"/\"+self.trainDataFile, 'r')\n",
        "    self.trainImgNames = []\n",
        "    for line in file.read().split(\"\\n\"):\n",
        "      self.trainImgNames.append(line)\n",
        "    \n",
        "    file.close()\n",
        "    \n",
        "  def objectDetection(self):\n",
        "    objectsDict = {}\n",
        "    i = 0\n",
        "    \n",
        "    self.getTrainImageNames()\n",
        "    \n",
        "    for imgName in self.trainImgNames:\n",
        "      try:\n",
        "        img = cv2.imread(os.path.join(self.imgPath,imgName))\n",
        "        if(img is not None):\n",
        "          img = cv2.resize(img,(224,224))\n",
        "          #cv2_imshow(img)\n",
        "          img = img.reshape((1, img.shape[0], img.shape[1], img.shape[2]))\n",
        "          objectsDict[imgName] = self.model.predict(img)\n",
        "      except Exception as e:\n",
        "          print(str(e))\n",
        "        \n",
        "      i+=1\n",
        "      \n",
        "    dump(objectsDict, open(self.modelsPath+'/imageObjects.pkl', 'wb'))\n",
        "    print(\"done!\")\n",
        "  "
      ],
      "execution_count": 0,
      "outputs": []
    },
    {
      "cell_type": "code",
      "metadata": {
        "id": "LS8bAXvISmLh",
        "colab_type": "code",
        "colab": {
          "base_uri": "https://localhost:8080/",
          "height": 389
        },
        "outputId": "de50c77e-89f5-4fba-b8b2-a02ecd0356c0"
      },
      "source": [
        "cnn = cnnModel()"
      ],
      "execution_count": 3,
      "outputs": [
        {
          "output_type": "stream",
          "text": [
            "WARNING:tensorflow:From /usr/local/lib/python3.6/dist-packages/keras/backend/tensorflow_backend.py:66: The name tf.get_default_graph is deprecated. Please use tf.compat.v1.get_default_graph instead.\n",
            "\n",
            "WARNING:tensorflow:From /usr/local/lib/python3.6/dist-packages/keras/backend/tensorflow_backend.py:541: The name tf.placeholder is deprecated. Please use tf.compat.v1.placeholder instead.\n",
            "\n",
            "WARNING:tensorflow:From /usr/local/lib/python3.6/dist-packages/keras/backend/tensorflow_backend.py:4432: The name tf.random_uniform is deprecated. Please use tf.random.uniform instead.\n",
            "\n",
            "WARNING:tensorflow:From /usr/local/lib/python3.6/dist-packages/keras/backend/tensorflow_backend.py:4267: The name tf.nn.max_pool is deprecated. Please use tf.nn.max_pool2d instead.\n",
            "\n",
            "WARNING:tensorflow:From /usr/local/lib/python3.6/dist-packages/keras/backend/tensorflow_backend.py:190: The name tf.get_default_session is deprecated. Please use tf.compat.v1.get_default_session instead.\n",
            "\n",
            "WARNING:tensorflow:From /usr/local/lib/python3.6/dist-packages/keras/backend/tensorflow_backend.py:197: The name tf.ConfigProto is deprecated. Please use tf.compat.v1.ConfigProto instead.\n",
            "\n",
            "WARNING:tensorflow:From /usr/local/lib/python3.6/dist-packages/keras/backend/tensorflow_backend.py:203: The name tf.Session is deprecated. Please use tf.compat.v1.Session instead.\n",
            "\n",
            "WARNING:tensorflow:From /usr/local/lib/python3.6/dist-packages/keras/backend/tensorflow_backend.py:207: The name tf.global_variables is deprecated. Please use tf.compat.v1.global_variables instead.\n",
            "\n",
            "WARNING:tensorflow:From /usr/local/lib/python3.6/dist-packages/keras/backend/tensorflow_backend.py:216: The name tf.is_variable_initialized is deprecated. Please use tf.compat.v1.is_variable_initialized instead.\n",
            "\n",
            "WARNING:tensorflow:From /usr/local/lib/python3.6/dist-packages/keras/backend/tensorflow_backend.py:223: The name tf.variables_initializer is deprecated. Please use tf.compat.v1.variables_initializer instead.\n",
            "\n"
          ],
          "name": "stdout"
        }
      ]
    },
    {
      "cell_type": "code",
      "metadata": {
        "id": "fswY81V38LdJ",
        "colab_type": "code",
        "outputId": "e50b5f50-4aff-48d3-e16d-2d4148237d84",
        "colab": {
          "base_uri": "https://localhost:8080/",
          "height": 34
        }
      },
      "source": [
        "cnn.objectDetection()"
      ],
      "execution_count": 4,
      "outputs": [
        {
          "output_type": "stream",
          "text": [
            "done!\n"
          ],
          "name": "stdout"
        }
      ]
    },
    {
      "cell_type": "markdown",
      "metadata": {
        "id": "5BQzGPF2DXUC",
        "colab_type": "text"
      },
      "source": [
        "- The features are saved in a pickle file so that they can be referenced without training the model again.\n"
      ]
    },
    {
      "cell_type": "code",
      "metadata": {
        "id": "5cM613Vs9bzB",
        "colab_type": "code",
        "outputId": "d615c889-3eea-480b-bd2e-c03d28de5933",
        "colab": {
          "base_uri": "https://localhost:8080/",
          "height": 34
        }
      },
      "source": [
        "file = \"/content/drive/My Drive/NLP_Project/ProjectCode/models/imageObjects.pkl\"\n",
        "with open(file, 'rb') as f:\n",
        "    data = pickle.load(f)\n",
        "    print(data[list(data.keys())[0]].shape)"
      ],
      "execution_count": 12,
      "outputs": [
        {
          "output_type": "stream",
          "text": [
            "(1, 1000)\n"
          ],
          "name": "stdout"
        }
      ]
    },
    {
      "cell_type": "code",
      "metadata": {
        "id": "aP84HMM9Q0ui",
        "colab_type": "code",
        "colab": {}
      },
      "source": [
        ""
      ],
      "execution_count": 0,
      "outputs": []
    }
  ]
}